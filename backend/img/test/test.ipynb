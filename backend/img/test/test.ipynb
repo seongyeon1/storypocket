{
 "cells": [
  {
   "cell_type": "code",
   "execution_count": 12,
   "metadata": {},
   "outputs": [],
   "source": [
    "# !pip install stability-sdk"
   ]
  },
  {
   "cell_type": "code",
   "execution_count": 2,
   "metadata": {},
   "outputs": [],
   "source": [
    "import os\n",
    "from stability_sdk import client\n",
    "import stability_sdk.interfaces.gooseai.generation.generation_pb2 as generation\n",
    "from PIL import Image\n",
    "import io"
   ]
  },
  {
   "cell_type": "code",
   "execution_count": 6,
   "metadata": {},
   "outputs": [
    {
     "data": {
      "text/plain": [
       "True"
      ]
     },
     "execution_count": 6,
     "metadata": {},
     "output_type": "execute_result"
    }
   ],
   "source": [
    "from dotenv import load_dotenv\n",
    "\n",
    "load_dotenv()"
   ]
  },
  {
   "cell_type": "code",
   "execution_count": 7,
   "metadata": {},
   "outputs": [],
   "source": [
    "STABILITY_KEY = os.getenv('STABILITY_KEY')"
   ]
  },
  {
   "cell_type": "code",
   "execution_count": 9,
   "metadata": {},
   "outputs": [],
   "source": [
    "# API 클라이언트 초기화\n",
    "stability_api = client.StabilityInference(\n",
    "    key=STABILITY_KEY,\n",
    "    verbose=True,\n",
    ")"
   ]
  },
  {
   "cell_type": "code",
   "execution_count": null,
   "metadata": {},
   "outputs": [],
   "source": [
    "# 이미지 생성 함수 정의\n",
    "def generate_image(prompt, width=512, height=512, steps=50):\n",
    "    answers = stability_api.generate(\n",
    "        prompt=prompt,\n",
    "        seed=992446758,\n",
    "        steps=steps,\n",
    "        cfg_scale=8.0,\n",
    "        width=width,\n",
    "        height=height,\n",
    "        samples=1,\n",
    "        sampler=generation.SAMPLER_K_DPMPP_2M\n",
    "    )\n",
    "\n",
    "    for resp in answers:\n",
    "        for artifact in resp.artifacts:\n",
    "            if artifact.type == generation.ARTIFACT_IMAGE:\n",
    "                img = Image.open(io.BytesIO(artifact.binary))\n",
    "                return img"
   ]
  },
  {
   "cell_type": "code",
   "execution_count": null,
   "metadata": {},
   "outputs": [],
   "source": [
    "# 이미지 생성 표시\n",
    "prompt = \"A beautiful sunset over the ocean\"\n",
    "image = generate_image(prompt)\n",
    "image.show()"
   ]
  },
  {
   "cell_type": "code",
   "execution_count": 10,
   "metadata": {},
   "outputs": [
    {
     "name": "stdout",
     "output_type": "stream",
     "text": [
      "남은 크레딧: 992.30\n"
     ]
    }
   ],
   "source": [
    "import os\n",
    "import requests\n",
    "\n",
    "# API 엔드포인트 URL\n",
    "url = \"https://api.stability.ai/v1/user/balance\"\n",
    "\n",
    "# 요청 헤더 설정\n",
    "headers = {\n",
    "    \"Authorization\": f\"Bearer {STABILITY_KEY}\"\n",
    "}\n",
    "\n",
    "# API 요청\n",
    "response = requests.get(url, headers=headers)\n",
    "\n",
    "# 응답 확인\n",
    "if response.status_code == 200:\n",
    "    data = response.json()\n",
    "    credits = data.get('credits')\n",
    "    if credits is not None:\n",
    "        print(f\"남은 크레딧: {credits:.2f}\")\n",
    "    else:\n",
    "        print(\"크레딧 정보를 찾을 수 없습니다.\")\n",
    "else:\n",
    "    print(f\"Error: {response.status_code}\")\n",
    "    print(response.text)"
   ]
  },
  {
   "cell_type": "code",
   "execution_count": 11,
   "metadata": {},
   "outputs": [
    {
     "name": "stdout",
     "output_type": "stream",
     "text": [
      "전체 응답 데이터:\n",
      "{'credits': 992.3}\n"
     ]
    }
   ],
   "source": [
    "response = requests.get(url, headers=headers)\n",
    "if response.status_code == 200:\n",
    "    data = response.json()\n",
    "    print(\"전체 응답 데이터:\")\n",
    "    print(data)\n",
    "else:\n",
    "    print(f\"Error: {response.status_code}\")\n",
    "    print(response.text)"
   ]
  }
 ],
 "metadata": {
  "kernelspec": {
   "display_name": ".venv",
   "language": "python",
   "name": "python3"
  },
  "language_info": {
   "codemirror_mode": {
    "name": "ipython",
    "version": 3
   },
   "file_extension": ".py",
   "mimetype": "text/x-python",
   "name": "python",
   "nbconvert_exporter": "python",
   "pygments_lexer": "ipython3",
   "version": "3.12.7"
  }
 },
 "nbformat": 4,
 "nbformat_minor": 2
}
