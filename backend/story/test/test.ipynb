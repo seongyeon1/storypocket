{
 "cells": [
  {
   "cell_type": "code",
   "execution_count": null,
   "metadata": {},
   "outputs": [],
   "source": [
    "# !pip install pandas"
   ]
  },
  {
   "cell_type": "code",
   "execution_count": 1,
   "metadata": {},
   "outputs": [],
   "source": [
    "import pandas as pd"
   ]
  },
  {
   "cell_type": "code",
   "execution_count": 1,
   "metadata": {},
   "outputs": [
    {
     "name": "stdout",
     "output_type": "stream",
     "text": [
      "<_io.TextIOWrapper name='./data/story.txt' mode='r' encoding='UTF-8'>\n"
     ]
    }
   ],
   "source": [
    "filename = './data/story.txt'\n",
    "f = open(filename, 'r')     # mode = 부분은 생략해도 됨\n",
    "print(f) "
   ]
  },
  {
   "cell_type": "code",
   "execution_count": 2,
   "metadata": {},
   "outputs": [],
   "source": [
    "lines = f.readlines()"
   ]
  },
  {
   "cell_type": "code",
   "execution_count": 5,
   "metadata": {},
   "outputs": [],
   "source": [
    "# lines"
   ]
  },
  {
   "cell_type": "code",
   "execution_count": 4,
   "metadata": {},
   "outputs": [
    {
     "name": "stderr",
     "output_type": "stream",
     "text": [
      "/Users/seongyeon/Desktop/K-digital/.venv/lib/python3.12/site-packages/tqdm/auto.py:21: TqdmWarning: IProgress not found. Please update jupyter and ipywidgets. See https://ipywidgets.readthedocs.io/en/stable/user_install.html\n",
      "  from .autonotebook import tqdm as notebook_tqdm\n"
     ]
    }
   ],
   "source": [
    "from langchain_openai import ChatOpenAI\n",
    "from langchain.callbacks.streaming_stdout import StreamingStdOutCallbackHandler\n",
    "from langchain_google_genai import ChatGoogleGenerativeAI\n",
    "from dotenv import load_dotenv\n",
    "\n",
    "load_dotenv()\n",
    "\n",
    "gpt_4o_mini = ChatOpenAI(temperature=0.5, \n",
    "                    model_name=\"gpt-4o-mini\",\n",
    "                    streaming=True,              \n",
    "                    callbacks=[StreamingStdOutCallbackHandler()]\n",
    "                    )\n",
    "\n",
    "gemini_1_5_flash = ChatGoogleGenerativeAI(model=\"gemini-1.5-flash\", temperature=0.0)"
   ]
  },
  {
   "cell_type": "code",
   "execution_count": 39,
   "metadata": {},
   "outputs": [],
   "source": [
    "from langchain.prompts import PromptTemplate\n",
    "from langchain_core.output_parsers import StrOutputParser\n",
    "\n",
    "story = ''.join(lines)"
   ]
  },
  {
   "cell_type": "code",
   "execution_count": 40,
   "metadata": {},
   "outputs": [
    {
     "name": "stdout",
     "output_type": "stream",
     "text": [
      "### 동화책 제목: 할아버지의 옛날 이야기\n",
      "\n",
      "---\n",
      "\n",
      "#### 페이지 1\n",
      "**이미지 묘사:** 따뜻한 햇살이 비치는 집 앞에서 손자가 할아버지를 향해 뛰어가는 모습. 할아버지는 미소를 지으며 손자를 바라보고 있다. \n",
      "\n",
      "**텍스트:** \n",
      "손자: “할아버지! 안녕하세요! 오늘 뭐 하셨어요?”\n",
      "\n",
      "할아버지: “오, 우리 손자구나! 잘 있었니? 오늘은 그냥 집에서 쉬면서 옛날 생각을 좀 했지.”\n",
      "\n",
      "---\n",
      "\n",
      "#### 페이지 2\n",
      "**이미지 묘사:** 할아버지가 소파에 앉아 손자를 바라보며 이야기를 하는 모습. 손자는 호기심 가득한 눈으로 할아버지를 쳐다보고 있다.\n",
      "\n",
      "**텍스트:** \n",
      "손자: “옛날에 무슨 일이 있었는데요? 할아버지 옛날 얘기 들려주세요!”\n",
      "\n",
      "할아버지: “옛날이야기라… 그래, 오늘은 내가 초등학교 1학년 때 겪었던 일을 얘기해줄까? 전쟁이 일어났던 때 말이야.”\n",
      "\n",
      "---\n",
      "\n",
      "#### 페이지 3\n",
      "**이미지 묘사:** 어두운 구름이 끼고 있는 하늘 아래, 전쟁의 소음이 들리는 배경. 할아버지가 어린 시절의 자신을 회상하는 모습.\n",
      "\n",
      "**텍스트:** \n",
      "손자: “전쟁이요? 무서웠겠어요, 할아버지… 그때 어떤 일이 있었어요?”\n",
      "\n",
      "할아버지: “그때는 6.25 전쟁이 터졌지. 나는 학교를 다니던 중이었는데, 갑자기 전쟁이 일어난 거야.”\n",
      "\n",
      "---\n",
      "\n",
      "#### 페이지 4\n",
      "**이미지 묘사:** 할아버지가 어린 시절, 만삭인 어머니와 외삼촌과 함께 피난길에 나선 모습. 짐을 지고 걷는 모습이 힘들어 보인다.\n",
      "\n",
      "**텍스트:** \n",
      "할아버지: “아버지는 군인이셔서 부대에 계시고, 나는 만삭인 어머니랑 외삼촌이랑 피난을 가야 했단다. 서울에서 남쪽으로, 어머니 고향인 완주 고산으로 피난을 갔지.”\n",
      "\n",
      "---\n",
      "\n",
      "#### 페이지 5\n",
      "**이미지 묘사:** 먼 길을 걷고 있는 가족의 모습. 길가에 있는 밭에서 가지를 따는 할아버지의 어린 시절 모습.\n",
      "\n",
      "**텍스트:** \n",
      "손자: “와… 그럼 걸어서 갔어요?”\n",
      "\n",
      "할아버지: “응, 맞아. 그때는 차도 없었고, 기차도 끊겨서 15일이나 걸었단다.”\n",
      "\n",
      "---\n",
      "\n",
      "#### 페이지 6\n",
      "**이미지 묘사:** 한강 다리가 폭파되는 순간을 목격하는 어린 할아버지의 놀란 표정. \n",
      "\n",
      "**텍스트:** \n",
      "할아버지: “아, 그리고 그때 한강 다리가 폭파되는 것도 직접 봤어.”\n",
      "\n",
      "손자: “진짜요? 한강 다리가 무너지는 걸 직접 봤다고요? 무섭지 않았어요?”\n",
      "\n",
      "---\n",
      "\n",
      "#### 페이지 7\n",
      "**이미지 묘사:** 집집마다 음식을 구걸하는 가족의 모습. 모두가 슬퍼 보이고 빈손인 모습.\n",
      "\n",
      "**텍스트:** \n",
      "할아버지: “무서웠지. 그런데도 우리는 계속 걸었어. 가끔 마을을 지나가다 밥을 얻어먹으려고 하면, 집집마다 다 거절당했어.”\n",
      "\n",
      "---\n",
      "\n",
      "#### 페이지 8\n",
      "**이미지 묘사:** 할아버지가 길에서 구할 수 있는 채소를 먹고 있는 모습. 한 어르신이 시커먼 꽁보리밥과 감자를 주는 장면.\n",
      "\n",
      "**텍스트:** \n",
      "할아버지: “길에서 구할 수 있는 거 먹고 다녔지. 충청도쯤 가서야 한 어르신이 시커먼 꽁보리밥이랑 감자를 주셔서 그걸 먹고 한 끼를 해결했단다.”\n",
      "\n",
      "---\n",
      "\n",
      "#### 페이지 9\n",
      "**이미지 묘사:** 어린 할아버지가 길가 과수원에서 새파란 포도를 따는 모습. 표정은 기대와 두려움이 섞여 있다.\n",
      "\n",
      "**텍스트:** \n",
      "손자: “할아버지, 그럼 과일도 먹었어요?”\n",
      "\n",
      "할아버지: “한 번은 너무 배고파서 길가 과수원에서 새파란 포도를 따 먹었단다.”\n",
      "\n",
      "---\n",
      "\n",
      "#### 페이지 10\n",
      "**이미지 묘사:** 아프고 힘들어하는 어린 할아버지의 모습. 배탈로 고생하는 장면.\n",
      "\n",
      "**텍스트:** \n",
      "손자: “아이고, 할아버지… 그럼 아팠겠어요. 이제는 그런 일 없겠죠?”\n",
      "\n",
      "할아버지: “그렇지, 이제는 그런 고생 안 해도 돼. 나는 지금 아주 행복하단다.”\n",
      "\n",
      "---\n",
      "\n",
      "#### 페이지 11\n",
      "**이미지 묘사:** 손자가 할아버지를 바라보며 웃고 있는 모습. 할아버지도 미소를 지으며 손자를 바라보고 있다.\n",
      "\n",
      "**텍스트:** \n",
      "손자: “할아버지! 건강하세요! 그리고 또 옛날 얘기 들려주세요.”\n",
      "\n",
      "할아버지: “그래, 그래. 나중에 또 들려줄게.”\n",
      "\n",
      "---\n",
      "\n",
      "#### 페이지 12\n",
      "**이미지 묘사:** 손자가 할아버지에게 손을 흔들며 작별 인사를 하는 모습. 할아버지가 따뜻한 미소로 손자를 바라보며 손을 흔들고 있다.\n",
      "\n",
      "**텍스트:** \n",
      "손자: “네! 할아버지, 나중에 또 전화할게요! 사랑해요!”\n",
      "\n",
      "할아버지: “그래, 나도 사랑한다. 잘 자라, 우리 손자!”\n",
      "\n",
      "--- \n",
      "\n",
      "이렇게 할아버지와 손자의 따뜻한 대화는 사랑과 기억으로 가득 찬 동화 같은 이야기로 완성되었습니다."
     ]
    }
   ],
   "source": [
    "template = \"\"\"\n",
    "    아래 대화 내용을 동화책처럼 수정해줘\n",
    "    내용에 필요한 이미지를 각각 묘사해줘\n",
    "    -----\n",
    "    이야기 : {story}\n",
    "\"\"\"\n",
    "prompt = PromptTemplate(\n",
    "    template=template,\n",
    "    input_variables=[\"story\"]\n",
    ")\n",
    "\n",
    "chain = prompt | gpt_4o_mini | StrOutputParser()\n",
    "tales = chain.invoke({\"story\": story})"
   ]
  },
  {
   "cell_type": "code",
   "execution_count": 26,
   "metadata": {},
   "outputs": [],
   "source": [
    "tales_list= tales.split('---')"
   ]
  },
  {
   "cell_type": "code",
   "execution_count": 29,
   "metadata": {},
   "outputs": [
    {
     "data": {
      "text/plain": [
       "['**동화 제목: 할아버지의 옛날 이야기**\\n\\n',\n",
       " '\\n\\n**페이지 1:**\\n*이미지 묘사:* 따뜻한 햇살이 비치는 정원, 손자가 할아버지를 향해 뛰어가는 모습. 할아버지는 나무 그늘에 앉아 미소를 지으며 손자를 바라보고 있다.\\n\\n**텍스트:**  \\n손자: “할아버지! 안녕하세요! 오늘 뭐 하셨어요?”  \\n할아버지: “오, 우리 손자구나! 잘 있었니? 오늘은 그냥 집에서 쉬면서 옛날 생각을 좀 했지.”\\n\\n',\n",
       " '\\n\\n**페이지 2:**\\n*이미지 묘사:* 할아버지가 옛날 사진들을 들여다보며 회상하는 모습. 사진 속에는 어린 시절의 할아버지와 가족의 모습이 담겨 있다.\\n\\n**텍스트:**  \\n손자: “옛날에 무슨 일이 있었는데요? 할아버지 옛날 얘기 들려주세요!”  \\n할아버지: “옛날이야기라… 그래, 오늘은 내가 초등학교 1학년 때 겪었던 일을 얘기해줄까? 전쟁이 일어났던 때 말이야.”\\n\\n',\n",
       " '\\n\\n**페이지 3:**\\n*이미지 묘사:* 회상 속의 할아버지가 어린 시절 친구들과 함께 학교에 가는 모습. 학교 건물과 친구들의 웃음소리가 담겨 있다.\\n\\n**텍스트:**  \\n손자: “전쟁이요? 무서웠겠어요, 할아버지… 그때 어떤 일이 있었어요?”  \\n할아버지: “그때는 6.25 전쟁이 터졌지. 나는 학교를 다니던 중이었는데, 갑자기 전쟁이 일어난 거야.”\\n\\n',\n",
       " '\\n\\n**페이지 4:**\\n*이미지 묘사:* 할아버지가 어머니와 외삼촌과 함께 피난길에 나서는 모습. 짐을 들고 걷는 가족의 뒷모습이 보인다.\\n\\n**텍스트:**  \\n할아버지: “아버지는 군인이셔서 부대에 계시고, 나는 만삭인 어머니랑 외삼촌이랑 피난을 가야 했단다. 서울에서 남쪽으로, 어머니 고향인 완주 고산으로 피난을 갔지.”\\n\\n',\n",
       " '\\n\\n**페이지 5:**\\n*이미지 묘사:* 길 위에서 가족이 힘겹게 걷는 모습. 길가에 있는 밭에서 가지를 따는 모습이 보인다.\\n\\n**텍스트:**  \\n손자: “와… 그럼 걸어서 갔어요?”  \\n할아버지: “응, 맞아. 그때는 차도 없었고, 기차도 끊겨서 15일이나 걸었단다.”\\n\\n',\n",
       " '\\n\\n**페이지 6:**\\n*이미지 묘사:* 한강 다리가 폭파되는 장면. 연기가 피어오르고, 사람들의 놀란 표정이 보인다.\\n\\n**텍스트:**  \\n할아버지: “아, 그리고 그때 한강 다리가 폭파되는 것도 직접 봤어.”  \\n손자: “진짜요? 한강 다리가 무너지는 걸 직접 봤다고요? 무섭지 않았어요?”\\n\\n',\n",
       " '\\n\\n**페이지 7:**\\n*이미지 묘사:* 마을에서 밥을 얻으려는 할아버지와 가족의 모습. 사람들은 문을 닫고, 슬픈 표정으로 그들을 바라보고 있다.\\n\\n**텍스트:**  \\n할아버지: “무서웠지. 그런데도 우리는 계속 걸었어. 가끔 마을을 지나가다 밥을 얻어먹으려고 하면, 집집마다 다 거절당했어.”\\n\\n',\n",
       " '\\n\\n**페이지 8:**\\n*이미지 묘사:* 길가에서 가지와 고구마를 먹으며 힘들어하는 할아버지와 가족의 모습.\\n\\n**텍스트:**  \\n손자: “에구, 너무 힘들었겠다… 그럼 뭐 먹고 다녔어요?”  \\n할아버지: “길에서 구할 수 있는 거 먹고 다녔지. 가지, 고구마…”\\n\\n',\n",
       " '\\n\\n**페이지 9:**\\n*이미지 묘사:* 친절한 할머니가 시커먼 꽁보리밥과 감자를 주는 장면. 할아버지가 고마운 표정을 짓고 있다.\\n\\n**텍스트:**  \\n“충청도쯤 가서야 한 어르신이 시커먼 꽁보리밥이랑 감자를 주셔서 그걸 먹고 한 끼를 해결했단다.”\\n\\n',\n",
       " '\\n\\n**페이지 10:**\\n*이미지 묘사:* 길가 과수원에서 새파란 포도를 따는 할아버지의 모습. 배고픔에 고생하는 표정이 보인다.\\n\\n**텍스트:**  \\n손자: “할아버지, 그럼 과일도 먹었어요?”  \\n할아버지: “한 번은 너무 배고파서 길가 과수원에서 새파란 포도를 따 먹었단다.”\\n\\n',\n",
       " '\\n\\n**페이지 11:**\\n*이미지 묘사:* 아픈 할아버지가 배탈로 괴로워하는 모습. 주변에는 가족이 걱정스러운 표정으로 지켜보고 있다.\\n\\n**텍스트:**  \\n손자: “아이고, 할아버지… 그럼 아팠겠어요. 이제는 그런 일 없겠죠?”  \\n할아버지: “그렇지, 이제는 그런 고생 안 해도 돼. 나는 지금 아주 행복하단다.”\\n\\n',\n",
       " '\\n\\n**페이지 12:**\\n*이미지 묘사:* 할아버지가 손자를 부드럽게 안아주며 미소 짓는 모습.\\n\\n**텍스트:**  \\n손자: “할아버지! 건강하세요! 그리고 또 옛날 얘기 들려주세요.”  \\n할아버지: “그래, 그래. 나중에 또 들려줄게. 할아버지랑 또 재미있는 이야기 나누자꾸나.”\\n\\n',\n",
       " '\\n\\n**페이지 13:**\\n*이미지 묘사:* 손자가 할아버지에게 손을 흔들며 작별 인사를 하는 모습. 할아버지도 미소를 지으며 손을 흔들고 있다.\\n\\n**텍스트:**  \\n손자: “네! 할아버지, 나중에 또 전화할게요! 사랑해요!”  \\n할아버지: “그래, 나도 사랑한다. 잘 자라, 우리 손자!” \\n\\n',\n",
       " '\\n\\n**마무리 이미지:**  \\n*할아버지와 손자가 함께 웃으며 손을 흔드는 모습. 배경에는 밝은 햇살과 푸른 하늘이 펼쳐져 있다.*']"
      ]
     },
     "execution_count": 29,
     "metadata": {},
     "output_type": "execute_result"
    }
   ],
   "source": [
    "tales_list"
   ]
  },
  {
   "cell_type": "code",
   "execution_count": 35,
   "metadata": {},
   "outputs": [],
   "source": [
    "descriptions = []\n",
    "for story in tales_list:\n",
    "    for s in story.split('\\n\\n'):\n",
    "        # print(s)\n",
    "        if '이미지' in s:\n",
    "            descriptions.append(s)"
   ]
  },
  {
   "cell_type": "code",
   "execution_count": 36,
   "metadata": {},
   "outputs": [
    {
     "data": {
      "text/plain": [
       "['**페이지 1:**\\n*이미지 묘사:* 따뜻한 햇살이 비치는 정원, 손자가 할아버지를 향해 뛰어가는 모습. 할아버지는 나무 그늘에 앉아 미소를 지으며 손자를 바라보고 있다.',\n",
       " '**페이지 2:**\\n*이미지 묘사:* 할아버지가 옛날 사진들을 들여다보며 회상하는 모습. 사진 속에는 어린 시절의 할아버지와 가족의 모습이 담겨 있다.',\n",
       " '**페이지 3:**\\n*이미지 묘사:* 회상 속의 할아버지가 어린 시절 친구들과 함께 학교에 가는 모습. 학교 건물과 친구들의 웃음소리가 담겨 있다.',\n",
       " '**페이지 4:**\\n*이미지 묘사:* 할아버지가 어머니와 외삼촌과 함께 피난길에 나서는 모습. 짐을 들고 걷는 가족의 뒷모습이 보인다.',\n",
       " '**페이지 5:**\\n*이미지 묘사:* 길 위에서 가족이 힘겹게 걷는 모습. 길가에 있는 밭에서 가지를 따는 모습이 보인다.',\n",
       " '**페이지 6:**\\n*이미지 묘사:* 한강 다리가 폭파되는 장면. 연기가 피어오르고, 사람들의 놀란 표정이 보인다.',\n",
       " '**페이지 7:**\\n*이미지 묘사:* 마을에서 밥을 얻으려는 할아버지와 가족의 모습. 사람들은 문을 닫고, 슬픈 표정으로 그들을 바라보고 있다.',\n",
       " '**페이지 8:**\\n*이미지 묘사:* 길가에서 가지와 고구마를 먹으며 힘들어하는 할아버지와 가족의 모습.',\n",
       " '**페이지 9:**\\n*이미지 묘사:* 친절한 할머니가 시커먼 꽁보리밥과 감자를 주는 장면. 할아버지가 고마운 표정을 짓고 있다.',\n",
       " '**페이지 10:**\\n*이미지 묘사:* 길가 과수원에서 새파란 포도를 따는 할아버지의 모습. 배고픔에 고생하는 표정이 보인다.',\n",
       " '**페이지 11:**\\n*이미지 묘사:* 아픈 할아버지가 배탈로 괴로워하는 모습. 주변에는 가족이 걱정스러운 표정으로 지켜보고 있다.',\n",
       " '**페이지 12:**\\n*이미지 묘사:* 할아버지가 손자를 부드럽게 안아주며 미소 짓는 모습.',\n",
       " '**페이지 13:**\\n*이미지 묘사:* 손자가 할아버지에게 손을 흔들며 작별 인사를 하는 모습. 할아버지도 미소를 지으며 손을 흔들고 있다.',\n",
       " '**마무리 이미지:**  \\n*할아버지와 손자가 함께 웃으며 손을 흔드는 모습. 배경에는 밝은 햇살과 푸른 하늘이 펼쳐져 있다.*']"
      ]
     },
     "execution_count": 36,
     "metadata": {},
     "output_type": "execute_result"
    }
   ],
   "source": [
    "descriptions"
   ]
  },
  {
   "cell_type": "code",
   "execution_count": null,
   "metadata": {},
   "outputs": [],
   "source": []
  },
  {
   "cell_type": "code",
   "execution_count": 13,
   "metadata": {},
   "outputs": [
    {
     "ename": "NameError",
     "evalue": "name 'tales' is not defined",
     "output_type": "error",
     "traceback": [
      "\u001b[0;31m---------------------------------------------------------------------------\u001b[0m",
      "\u001b[0;31mNameError\u001b[0m                                 Traceback (most recent call last)",
      "Cell \u001b[0;32mIn[13], line 12\u001b[0m\n\u001b[1;32m      6\u001b[0m prompt \u001b[38;5;241m=\u001b[39m PromptTemplate(\n\u001b[1;32m      7\u001b[0m     template\u001b[38;5;241m=\u001b[39mtemplate,\n\u001b[1;32m      8\u001b[0m     input_variables\u001b[38;5;241m=\u001b[39m[\u001b[38;5;124m\"\u001b[39m\u001b[38;5;124mtales\u001b[39m\u001b[38;5;124m\"\u001b[39m]\n\u001b[1;32m      9\u001b[0m )\n\u001b[1;32m     11\u001b[0m chain \u001b[38;5;241m=\u001b[39m prompt \u001b[38;5;241m|\u001b[39m gpt_4o_mini \u001b[38;5;241m|\u001b[39m StrOutputParser()\n\u001b[0;32m---> 12\u001b[0m tales \u001b[38;5;241m=\u001b[39m chain\u001b[38;5;241m.\u001b[39minvoke({\u001b[38;5;124m\"\u001b[39m\u001b[38;5;124mtales\u001b[39m\u001b[38;5;124m\"\u001b[39m: \u001b[43mtales\u001b[49m})\n",
      "\u001b[0;31mNameError\u001b[0m: name 'tales' is not defined"
     ]
    }
   ],
   "source": [
    "template = \"\"\"\n",
    "    아래 동화 내용에 필요한 이미지를 부분마다 추가해줘\n",
    "    -----\n",
    "    동화 : {tales}\n",
    "\"\"\"\n",
    "prompt = PromptTemplate(\n",
    "    template=template,\n",
    "    input_variables=[\"tales\"]\n",
    ")\n",
    "\n",
    "chain = prompt | gpt_4o_mini | StrOutputParser()\n",
    "tales = chain.invoke({\"tales\": tales})"
   ]
  },
  {
   "cell_type": "code",
   "execution_count": 10,
   "metadata": {},
   "outputs": [
    {
     "name": "stdout",
     "output_type": "stream",
     "text": [
      "Here are the image prompts for each scene, designed to capture the essence of the story while highlighting Korean cultural elements:\n",
      "\n",
      "### Scene 1: Meeting of Grandfather and Grandson\n",
      "**Image Prompt:** A warm, sunlit day in front of a traditional Korean hanok (house). The grandfather, dressed in a beautiful hanbok, greets his grandson with a joyful smile. In the background, vibrant green trees and a flower garden bloom, while the grandson looks up at his grandfather with a bright smile. The grandfather holds a small basket of fruits, symbolizing warmth and affection.\n",
      "\n",
      "### Scene 2: Grandfather Begins His Old Tales\n",
      "**Image Prompt:** The grandfather gazes at a childhood photo, reminiscing about his hometown. The room features traditional Korean furniture and a hanok window, allowing soft light to filter in. The grandfather’s eyes reflect deep memories, while the grandson looks on with a curious expression, eager to hear the stories.\n",
      "\n",
      "### Scene 3: Memories of War\n",
      "**Image Prompt:** Under a dark sky, a young grandfather walks alongside his mother and uncle, fleeing from danger. The background shows the devastation of Seoul from bombings, with their faces filled with worry and fear. The road is lined with barren fields and wilted trees, emphasizing the heaviness of their journey.\n",
      "\n",
      "### Scene 4: Difficult Refugee Life\n",
      "**Image Prompt:** A young grandfather sits on the roadside, tired and picking branches. Beside him, his mother bows her head in exhaustion, while his uncle keeps a watchful eye on their surroundings. The backdrop features lush mountains and fields, where a few fruits can be seen, symbolizing their struggle to survive.\n",
      "\n",
      "### Scene 5: Destruction of the Han River Bridge\n",
      "**Image Prompt:** A young grandfather witnesses the explosion of the Han River Bridge, his face a mix of fear and shock. Surrounding him, people gasp in disbelief, staring at the bridge. The background is filled with rising black smoke, casting dark shadows that symbolize the horrors of war.\n",
      "\n",
      "### Scene 6: Grateful Elder’s Help\n",
      "**Image Prompt:** An elderly man in traditional hanbok offers dark boiled rice and potatoes to the grandfather on the roadside. The grandfather looks at him with gratitude. The surroundings show green fields and small houses, creating a scene filled with warmth and kindness.\n",
      "\n",
      "### Scene 7: Stomachache from Grapes\n",
      "**Image Prompt:** In an orchard, a young grandfather grimaces in pain after eating too many green grapes. The orchard is lush with grapevines heavy with fruit. The background features a bright blue sky and the warm sunlight of summer, contrasting with his discomfort.\n",
      "\n",
      "### Scene 8: Happiness in the Present\n",
      "**Image Prompt:** The grandfather and grandson share a joyful moment, laughing together while sipping warm tea. They are surrounded by a garden filled with vibrant flowers in full bloom. The grandfather’s face radiates happiness, and the grandson looks at him with loving eyes, capturing the essence of their bond.\n",
      "\n",
      "These prompts aim to create vivid, culturally rich illustrations that bring the story to life through Korean imagery."
     ]
    }
   ],
   "source": [
    "template = \"\"\"\n",
    "    아래 장면묘사를 바탕으로 동화 이미지를 생성하기 위한 이미지 프롬프트를 작성해줘\n",
    "    영어로 작성해야 하고 한국적인 이미지가 드러나게 만들어야해\n",
    "    -----\n",
    "    장면 : {story}\n",
    "\"\"\"\n",
    "\n",
    "prompt = PromptTemplate(\n",
    "    template=template,\n",
    "    input_variables=[\"story\"]\n",
    ")\n",
    "\n",
    "chain = prompt | gpt_4o_mini | StrOutputParser()\n",
    "img_prompt = chain.invoke({\"story\": description})"
   ]
  }
 ],
 "metadata": {
  "kernelspec": {
   "display_name": "Python 3",
   "language": "python",
   "name": "python3"
  },
  "language_info": {
   "codemirror_mode": {
    "name": "ipython",
    "version": 3
   },
   "file_extension": ".py",
   "mimetype": "text/x-python",
   "name": "python",
   "nbconvert_exporter": "python",
   "pygments_lexer": "ipython3",
   "version": "3.12.7"
  }
 },
 "nbformat": 4,
 "nbformat_minor": 2
}
