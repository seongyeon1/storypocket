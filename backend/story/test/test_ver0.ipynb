{
 "cells": [
  {
   "cell_type": "code",
   "execution_count": null,
   "metadata": {},
   "outputs": [],
   "source": [
    "# !pip install pandas"
   ]
  },
  {
   "cell_type": "code",
   "execution_count": 1,
   "metadata": {},
   "outputs": [],
   "source": [
    "import pandas as pd"
   ]
  },
  {
   "cell_type": "code",
   "execution_count": 1,
   "metadata": {},
   "outputs": [
    {
     "name": "stdout",
     "output_type": "stream",
     "text": [
      "<_io.TextIOWrapper name='./data/story.txt' mode='r' encoding='UTF-8'>\n"
     ]
    }
   ],
   "source": [
    "filename = './data/story.txt'\n",
    "f = open(filename, 'r')     # mode = 부분은 생략해도 됨\n",
    "print(f) "
   ]
  },
  {
   "cell_type": "code",
   "execution_count": 2,
   "metadata": {},
   "outputs": [],
   "source": [
    "lines = f.readlines()"
   ]
  },
  {
   "cell_type": "code",
   "execution_count": 5,
   "metadata": {},
   "outputs": [],
   "source": [
    "# lines"
   ]
  },
  {
   "cell_type": "code",
   "execution_count": 4,
   "metadata": {},
   "outputs": [
    {
     "name": "stderr",
     "output_type": "stream",
     "text": [
      "/Users/seongyeon/Desktop/K-digital/.venv/lib/python3.12/site-packages/tqdm/auto.py:21: TqdmWarning: IProgress not found. Please update jupyter and ipywidgets. See https://ipywidgets.readthedocs.io/en/stable/user_install.html\n",
      "  from .autonotebook import tqdm as notebook_tqdm\n"
     ]
    }
   ],
   "source": [
    "from langchain_openai import ChatOpenAI\n",
    "from langchain.callbacks.streaming_stdout import StreamingStdOutCallbackHandler\n",
    "from langchain_google_genai import ChatGoogleGenerativeAI\n",
    "from dotenv import load_dotenv\n",
    "\n",
    "load_dotenv()\n",
    "\n",
    "gpt_4o_mini = ChatOpenAI(temperature=0.5, \n",
    "                    model_name=\"gpt-4o-mini\",\n",
    "                    streaming=True,              \n",
    "                    callbacks=[StreamingStdOutCallbackHandler()]\n",
    "                    )\n",
    "\n",
    "gemini_1_5_flash = ChatGoogleGenerativeAI(model=\"gemini-1.5-flash\", temperature=0.0)"
   ]
  },
  {
   "cell_type": "code",
   "execution_count": 6,
   "metadata": {},
   "outputs": [],
   "source": [
    "template = \"\"\"\n",
    "    할머니의 이야기를 바탕으로 스토리를 다시 재미있게 재구성해줘\n",
    "    할머니가 손자에게 옛날이야기를 들려주는 형식으로 변경해줘\n",
    "    방언은 표준어로 수정해서 이야기해줘\n",
    "    혹시 무슨 뜻인지 잘 모르는 방언이 있다면 이야기가 끝난 뒤에 제시해줘\n",
    "\n",
    "    -----\n",
    "    할머니의 이야기 : {story}\n",
    "\"\"\""
   ]
  },
  {
   "cell_type": "code",
   "execution_count": 7,
   "metadata": {},
   "outputs": [],
   "source": [
    "from langchain.prompts import PromptTemplate\n",
    "from langchain_core.output_parsers import StrOutputParser\n",
    "\n",
    "prompt = PromptTemplate(\n",
    "    template=template,\n",
    "    input_variables=[\"story\"]\n",
    ")\n",
    "\n",
    "chain = prompt | gpt_4o_mini | StrOutputParser()"
   ]
  },
  {
   "cell_type": "code",
   "execution_count": 8,
   "metadata": {},
   "outputs": [
    {
     "name": "stdout",
     "output_type": "stream",
     "text": [
      "할머니는 손자와 함께 따뜻한 저녁을 먹으며 이야기를 시작하셨습니다.\n",
      "\n",
      "\"얘야, 오늘 할머니가 너에게 아주 옛날 이야기를 들려줄게. 이 이야기는 만경읍에서 있었던 일인데, 그때 원님이 한 분 계셨어. 그런데 그 원님이 아주 어린 나이, 열다섯 살밖에 안 되었단다. 공부를 열심히 해서 원님이 되었지만, 사람들은 그 어린 원님을 별로 신경 쓰지 않았어. \n",
      "\n",
      "하루는 그 원님이 아랫사람들을 모두 불러모았어. 그리고는 이렇게 말했지. '자네들, 지금 당장 저 밭에 가서 수수 한 개만 뽑아 가지고 오너라.' 아랫사람들은 그 어린 원님을 무시하며 속으로 '허, 심심해서 그런 걸 시키는구나.' 하면서 서로 소곤소곤 이야기했지. 결국 그들은 수수 한 개를 뽑아 가지고 돌아왔단다.\n",
      "\n",
      "그런데 원님이 다시 말했다. '자, 이제 그 수수를 너희 옷 속에 다 넣어보거라.' 사람들이 그 말을 듣고는 어리둥절했지. '이게 무슨 소리야?' 하면서 말이야. 하지만 원님은 위엄 있게 계속 명령했단다. \n",
      "\n",
      "모두가 수수를 옷 속에 넣고 서 있었는데, 원님이 물어보았어. '그 수수가 몇 년 묵었느냐?' 아랫사람들이 대답했지. '아, 1년입니다.' 그러자 원님이 이렇게 말했어. '그래? 그러면 너희들은 1년도 안 된 수수도 옷 속에 다 넣지 못하는데, 나는 15년이나 된 수수를 넣어야 하니, 이게 말이 되느냐?' \n",
      "\n",
      "그 말을 듣고 나서 아랫사람들은 더 이상 어린 원님을 무시할 수 없었단다. 그때부터 그들은 원님에게 고분고분하게 대하기 시작했지. \n",
      "\n",
      "이 이야기는 할머니가 어릴 적에 들은 이야기라서, 진짜인지 아닌지는 모르겠지만, 만경읍에서 있었던 일이라고 하니, 한번 찾아보렴.\"\n",
      "\n",
      "할머니의 이야기를 들으며 손자는 흥미진진한 표정으로 고개를 끄덕였습니다. 그리고 할머니는 이야기가 끝난 후, 방언의 뜻을 설명해 주셨습니다.\n",
      "\n",
      "**방언 설명:**\n",
      "- \"모다 다 까먹었는디\" : 모두 다 잊어버렸는데\n",
      "- \"힛씅게로\" : 열심히\n",
      "- \"엥간히\" : 대단히, 많이\n",
      "- \"허 심심헝게\" : 허, 심심해서\n",
      "- \"쑤싯대\" : 수수\n",
      "- \"너그덜\" : 너희들\n",
      "- \"고분고분\" : 순종적으로, 순하게"
     ]
    }
   ],
   "source": [
    "response = chain.invoke({\"story\": story_sample})"
   ]
  },
  {
   "cell_type": "code",
   "execution_count": 9,
   "metadata": {},
   "outputs": [],
   "source": [
    "template = \"\"\"\n",
    "    아래 이야기를 바탕으로 장면을 나눠서 장면별로 어울리는 이미지를 묘사해줘 \n",
    "    한국적 이미지가 드러날 수 있게 묘사해줘\n",
    "    -----\n",
    "    이야기 : {story}\n",
    "\"\"\""
   ]
  },
  {
   "cell_type": "code",
   "execution_count": 10,
   "metadata": {},
   "outputs": [
    {
     "name": "stdout",
     "output_type": "stream",
     "text": [
      "### 장면 1: 따뜻한 저녁 식사\n",
      "- **이미지 묘사**: 한적한 한국의 전통 가옥 안, 따뜻한 조명이 비추는 방에서 할머니와 손자가 나란히 앉아 있습니다. 식탁 위에는 김치, 된장찌개, 그리고 비빔밥이 놓여 있고, 할머니는 손자에게 웃으며 이야기를 들려주고 있습니다. 벽에는 전통 한국 그림이 걸려 있고, 창밖으로는 고즈넉한 시골 풍경이 보입니다.\n",
      "\n",
      "### 장면 2: 원님의 등장\n",
      "- **이미지 묘사**: 만경읍의 전통 마을 풍경, 한쪽에 어린 원님이 서 있는 모습. 15세의 원님은 한복을 입고, 자신감 있는 표정으로 아랫사람들을 바라보고 있습니다. 주변에는 농민들이 모여 있고, 그들은 원님을 무시하는 듯한 표정으로 소곤소곤 이야기하고 있습니다. 배경에는 논밭과 산이 어우러진 아름다운 한국의 자연이 펼쳐져 있습니다.\n",
      "\n",
      "### 장면 3: 수수 명령\n",
      "- **이미지 묘사**: 원님이 아랫사람들에게 수수를 뽑아오라고 명령하는 장면. 아랫사람들은 어리둥절한 표정으로 수수를 들고 서 있습니다. 원님은 단호한 표정으로 그들을 바라보고 있고, 주변에는 농기구와 수확한 작물들이 널려 있습니다. 마을의 전통적인 집들이 배경에 보이며, 해가 저물어 가는 따뜻한 색감이 느껴집니다.\n",
      "\n",
      "### 장면 4: 수수 옷 속에 넣기\n",
      "- **이미지 묘사**: 아랫사람들이 수수를 옷 속에 넣는 장면. 각기 다른 표정의 농민들이 수수를 옷 속에 넣으며 당황해하고 있습니다. 원님은 위엄 있게 그들을 지켜보며, 주위에는 다른 농민들이 이 광경을 지켜보고 있습니다. 한국의 전통 의상인 한복이 여러 색상으로 어우러져 있는 모습이 아름답습니다.\n",
      "\n",
      "### 장면 5: 원님의 교훈\n",
      "- **이미지 묘사**: 원님이 아랫사람들에게 교훈을 주는 장면. 원님은 자신감 넘치는 표정으로 아랫사람들을 바라보며, 그들은 경청하고 있습니다. 배경에는 한국의 전통적인 논밭과 산이 보이며, 해가 저물어 가는 모습이 감정적으로 표현됩니다. 원님의 모습은 젊지만 강한 리더십을 상징합니다.\n",
      "\n",
      "### 장면 6: 할머니의 설명\n",
      "- **이미지 묘사**: 할머니가 손자에게 방언의 뜻을 설명하는 장면. 손자는 호기심 가득한 표정으로 할머니를 바라보고 있으며, 할머니는 따뜻한 미소를 지으며 설명하고 있습니다. 방 안은 아늑한 분위기로, 한쪽에는 전통 한국의 소품들이 놓여 있습니다. 창밖으로는 별이 빛나는 밤하늘이 보입니다. \n",
      "\n",
      "이렇게 각 장면을 통해 한국적인 요소를 강조하며 이야기를 시각적으로 표현할 수 있습니다."
     ]
    }
   ],
   "source": [
    "prompt = PromptTemplate(\n",
    "    template=template,\n",
    "    input_variables=[\"story\"]\n",
    ")\n",
    "\n",
    "chain = prompt | gpt_4o_mini | StrOutputParser()\n",
    "description = chain.invoke({\"story\": response})"
   ]
  },
  {
   "cell_type": "code",
   "execution_count": 11,
   "metadata": {},
   "outputs": [
    {
     "name": "stdout",
     "output_type": "stream",
     "text": [
      "Here are the image prompts for each scene, emphasizing Korean elements:\n",
      "\n",
      "### Scene 1: Warm Family Dinner\n",
      "**Image Prompt**: An intimate interior of a traditional Korean house, warmly lit. An elderly grandmother and her grandson sit side by side at a wooden table filled with Korean dishes like kimchi, doenjang jjigae (soybean paste stew), and bibimbap. The grandmother smiles gently as she shares a story. Traditional Korean paintings adorn the walls, and through the window, a serene countryside landscape is visible, showcasing rolling hills and rice fields.\n",
      "\n",
      "### Scene 2: The Young Governor's Arrival\n",
      "**Image Prompt**: A picturesque scene of a traditional village in Mankyung-eup, featuring a 15-year-old young governor dressed in a colorful hanbok. He stands confidently, gazing down at the villagers who gather around, whispering amongst themselves with expressions of skepticism. The background showcases lush rice paddies and majestic mountains, embodying the beauty of Korean nature.\n",
      "\n",
      "### Scene 3: The Order for Sorghum\n",
      "**Image Prompt**: The young governor commanding the villagers to bring sorghum. The villagers, with puzzled expressions, hold stalks of sorghum, looking confused. The governor stands with a stern look, surrounded by farming tools and harvested crops scattered around. Traditional Korean houses are visible in the background, illuminated by the warm hues of a setting sun.\n",
      "\n",
      "### Scene 4: Hiding Sorghum in Clothes\n",
      "**Image Prompt**: Villagers, each displaying different emotions, awkwardly stuff sorghum into their clothing. The young governor watches over them with an air of authority, while other villagers observe the scene with curiosity. The vibrant colors of their hanboks create a beautiful tapestry against the backdrop of traditional Korean houses.\n",
      "\n",
      "### Scene 5: The Governor's Lesson\n",
      "**Image Prompt**: The young governor delivering a lesson to the villagers, exuding confidence. The villagers listen attentively, their expressions showing respect and curiosity. In the background, traditional Korean rice fields and mountains are depicted, with the sun setting, casting a warm, emotional glow over the scene. The governor’s youthful appearance symbolizes strong leadership.\n",
      "\n",
      "### Scene 6: Grandmother's Explanation\n",
      "**Image Prompt**: A cozy scene where the grandmother explains the meaning of dialect to her curious grandson. The grandson gazes at her with wide eyes, while the grandmother smiles warmly, surrounded by traditional Korean artifacts in the room. Outside the window, a starry night sky sparkles, enhancing the intimate atmosphere of the moment.\n",
      "\n",
      "These prompts highlight the rich cultural elements of Korea while visually narrating the story."
     ]
    }
   ],
   "source": [
    "template = \"\"\"\n",
    "    아래 장면묘사를 바탕으로 동화 이미지를 생성하기 위한 이미지 프롬프트를 작성해줘\n",
    "    영어로 작성해야 하고 한국적인 이미지가 드러나게 만들어야해\n",
    "    -----\n",
    "    장면 : {story}\n",
    "\"\"\"\n",
    "\n",
    "prompt = PromptTemplate(\n",
    "    template=template,\n",
    "    input_variables=[\"story\"]\n",
    ")\n",
    "\n",
    "chain = prompt | gpt_4o_mini | StrOutputParser()\n",
    "img_prompt = chain.invoke({\"story\": description})"
   ]
  }
 ],
 "metadata": {
  "kernelspec": {
   "display_name": "Python 3",
   "language": "python",
   "name": "python3"
  },
  "language_info": {
   "codemirror_mode": {
    "name": "ipython",
    "version": 3
   },
   "file_extension": ".py",
   "mimetype": "text/x-python",
   "name": "python",
   "nbconvert_exporter": "python",
   "pygments_lexer": "ipython3",
   "version": "3.12.7"
  }
 },
 "nbformat": 4,
 "nbformat_minor": 2
}
